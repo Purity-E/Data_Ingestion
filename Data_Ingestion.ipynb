{
 "cells": [
  {
   "cell_type": "code",
   "execution_count": 1,
   "metadata": {},
   "outputs": [
    {
     "name": "stdout",
     "output_type": "stream",
     "text": [
      "Overwriting utility.py\n"
     ]
    }
   ],
   "source": [
    "%%writefile utility.py\n",
    "import logging\n",
    "import os\n",
    "import subprocess\n",
    "import yaml\n",
    "import dask.dataframe as dd\n",
    "import datetime \n",
    "import gc\n",
    "import re\n",
    "\n",
    "\n",
    "################\n",
    "# File Reading #\n",
    "################\n",
    "\n",
    "def read_config_file(filepath): #deserialization from yaml file\n",
    "    with open(filepath, 'r') as stream:\n",
    "        try:\n",
    "            return yaml.safe_load(stream)\n",
    "        except yaml.YAMLError as exc:\n",
    "            logging.error(exc)\n",
    "\n",
    "def col_header_val(df,table_config):\n",
    "    '''\n",
    "    replace whitespaces in the column\n",
    "    and standardized column names\n",
    "    '''\n",
    "    df.columns = df.columns.str.replace(' ', '')#removing the white spaces in the column names\n",
    "    df.columns = df.columns.str.replace('[#,@,&,?]', '') #removing special characters\n",
    "    expected_col = list(map(lambda x: x.lower(),  table_config['columns']))\n",
    "    df.columns =list(map(lambda x: x.lower(), list(df.columns)))\n",
    "    if len(df.columns) == len(expected_col) and list(expected_col)  == list(df.columns):\n",
    "        print(\"column name and column length validation passed\")\n",
    "        return 1\n",
    "    else:\n",
    "        print(\"column name and column length validation failed\")\n",
    "        mismatched_columns_file = list(set(df.columns).difference(expected_col))\n",
    "        print(\"Following File columns are not in the YAML file\",mismatched_columns_file)\n",
    "        missing_YAML_file = list(set(expected_col).difference(df.columns))\n",
    "        print(\"Following YAML columns are not in the file uploaded\",missing_YAML_file)\n",
    "        logging.info(f'df columns: {df.columns}')\n",
    "        logging.info(f'expected columns: {expected_col}')\n",
    "        return 0"
   ]
  },
  {
   "cell_type": "code",
   "execution_count": 2,
   "metadata": {},
   "outputs": [
    {
     "name": "stdout",
     "output_type": "stream",
     "text": [
      "Overwriting file.yaml\n"
     ]
    }
   ],
   "source": [
    "%%writefile file.yaml\n",
    "file_type: csv\n",
    "dataset_name: ddfile\n",
    "file_name: Parking_Violations_Issued_-_Fiscal_Year_2015\n",
    "file_path: D:\\Purity\\DataGlacier Internship\\week6\\Parking_Violations_Issued_-_Fiscal_Year_2015.csv\n",
    "inbound_delimiter: \",\"\n",
    "outbound_delimiter: \"|\"\n",
    "columns: \n",
    "    - summonsnumber\n",
    "    - plateid\n",
    "    - registrationstate\n",
    "    - platetype\n",
    "    - issuedate\n",
    "    - violationcode\n",
    "    - vehiclebodytype\n",
    "    - vehiclemake\n",
    "    - IssuingAgency\n",
    "    - StreetCode1\n",
    "    - StreetCode2\n",
    "    - StreetCode3\n",
    "    - VehicleExpirationDate\n",
    "    - ViolationLocation\n",
    "    - ViolationPrecinct\n",
    "    - IssuerPrecinct\n",
    "    - IssuerCode\n",
    "    - IssuerCommand\n",
    "    - IssuerSquad\n",
    "    - ViolationTime\n",
    "    - TimeFirstObserved\n",
    "    - ViolationCounty\n",
    "    - ViolationInFrontOfOrOpposite\n",
    "    - HouseNumber\n",
    "    - StreetName\n",
    "    - IntersectingStreet\n",
    "    - DateFirstObserved\n",
    "    - LawSection\n",
    "    - SubDivision\n",
    "    - ViolationLegalCode\n",
    "    - DaysParkingInEffect\n",
    "    - FromHoursInEffect\n",
    "    - ToHoursInEffect\n",
    "    - VehicleColor\n",
    "    - UnregisteredVehicle\n",
    "    - VehicleYear\n",
    "    - MeterNumber\n",
    "    - FeetFromCurb\n",
    "    - ViolationPostCode\n",
    "    - ViolationDescription\n",
    "    - NoStandingorStoppingViolation\n",
    "    - HydrantViolation\n",
    "    - DoubleParkingViolation\n",
    "    - Latitude\n",
    "    - Longitude\n",
    "    - CommunityBoard\n",
    "    - CommunityCouncil\n",
    "    - CensusTract\n",
    "    - BIN\n",
    "    - BBL\n",
    "    - NTA"
   ]
  },
  {
   "cell_type": "code",
   "execution_count": 3,
   "metadata": {},
   "outputs": [],
   "source": [
    "# Reading config file\n",
    "import utility as util\n",
    "config_data = util.read_config_file(\"file.yaml\")"
   ]
  },
  {
   "cell_type": "code",
   "execution_count": 4,
   "metadata": {},
   "outputs": [
    {
     "data": {
      "text/plain": [
       "','"
      ]
     },
     "execution_count": 4,
     "metadata": {},
     "output_type": "execute_result"
    }
   ],
   "source": [
    "config_data['inbound_delimiter']"
   ]
  },
  {
   "cell_type": "code",
   "execution_count": 5,
   "metadata": {},
   "outputs": [
    {
     "data": {
      "text/plain": [
       "{'file_type': 'csv',\n",
       " 'dataset_name': 'ddfile',\n",
       " 'file_name': 'Parking_Violations_Issued_-_Fiscal_Year_2015',\n",
       " 'file_path': 'D:\\\\Purity\\\\DataGlacier Internship\\\\week6\\\\Parking_Violations_Issued_-_Fiscal_Year_2015.csv',\n",
       " 'inbound_delimiter': ',',\n",
       " 'outbound_delimiter': '|',\n",
       " 'columns': ['summonsnumber',\n",
       "  'plateid',\n",
       "  'registrationstate',\n",
       "  'platetype',\n",
       "  'issuedate',\n",
       "  'violationcode',\n",
       "  'vehiclebodytype',\n",
       "  'vehiclemake',\n",
       "  'IssuingAgency',\n",
       "  'StreetCode1',\n",
       "  'StreetCode2',\n",
       "  'StreetCode3',\n",
       "  'VehicleExpirationDate',\n",
       "  'ViolationLocation',\n",
       "  'ViolationPrecinct',\n",
       "  'IssuerPrecinct',\n",
       "  'IssuerCode',\n",
       "  'IssuerCommand',\n",
       "  'IssuerSquad',\n",
       "  'ViolationTime',\n",
       "  'TimeFirstObserved',\n",
       "  'ViolationCounty',\n",
       "  'ViolationInFrontOfOrOpposite',\n",
       "  'HouseNumber',\n",
       "  'StreetName',\n",
       "  'IntersectingStreet',\n",
       "  'DateFirstObserved',\n",
       "  'LawSection',\n",
       "  'SubDivision',\n",
       "  'ViolationLegalCode',\n",
       "  'DaysParkingInEffect',\n",
       "  'FromHoursInEffect',\n",
       "  'ToHoursInEffect',\n",
       "  'VehicleColor',\n",
       "  'UnregisteredVehicle',\n",
       "  'VehicleYear',\n",
       "  'MeterNumber',\n",
       "  'FeetFromCurb',\n",
       "  'ViolationPostCode',\n",
       "  'ViolationDescription',\n",
       "  'NoStandingorStoppingViolation',\n",
       "  'HydrantViolation',\n",
       "  'DoubleParkingViolation',\n",
       "  'Latitude',\n",
       "  'Longitude',\n",
       "  'CommunityBoard',\n",
       "  'CommunityCouncil',\n",
       "  'CensusTract',\n",
       "  'BIN',\n",
       "  'BBL',\n",
       "  'NTA']}"
      ]
     },
     "execution_count": 5,
     "metadata": {},
     "output_type": "execute_result"
    }
   ],
   "source": [
    "#inspecting data of config file\n",
    "config_data"
   ]
  },
  {
   "cell_type": "code",
   "execution_count": 6,
   "metadata": {},
   "outputs": [
    {
     "data": {
      "text/html": [
       "<div>\n",
       "<style scoped>\n",
       "    .dataframe tbody tr th:only-of-type {\n",
       "        vertical-align: middle;\n",
       "    }\n",
       "\n",
       "    .dataframe tbody tr th {\n",
       "        vertical-align: top;\n",
       "    }\n",
       "\n",
       "    .dataframe thead th {\n",
       "        text-align: right;\n",
       "    }\n",
       "</style>\n",
       "<table border=\"1\" class=\"dataframe\">\n",
       "  <thead>\n",
       "    <tr style=\"text-align: right;\">\n",
       "      <th></th>\n",
       "      <th>Summons Number</th>\n",
       "      <th>Plate ID</th>\n",
       "      <th>Registration State</th>\n",
       "      <th>Plate Type</th>\n",
       "      <th>Issue Date</th>\n",
       "      <th>Violation Code</th>\n",
       "      <th>Vehicle Body Type</th>\n",
       "      <th>Vehicle Make</th>\n",
       "      <th>Issuing Agency</th>\n",
       "      <th>Street Code1</th>\n",
       "      <th>...</th>\n",
       "      <th>Hydrant Violation</th>\n",
       "      <th>Double Parking Violation</th>\n",
       "      <th>Latitude</th>\n",
       "      <th>Longitude</th>\n",
       "      <th>Community Board</th>\n",
       "      <th>Community Council</th>\n",
       "      <th>Census Tract</th>\n",
       "      <th>BIN</th>\n",
       "      <th>BBL</th>\n",
       "      <th>NTA</th>\n",
       "    </tr>\n",
       "  </thead>\n",
       "  <tbody>\n",
       "    <tr>\n",
       "      <th>0</th>\n",
       "      <td>8002531292</td>\n",
       "      <td>EPC5238</td>\n",
       "      <td>NY</td>\n",
       "      <td>PAS</td>\n",
       "      <td>10/01/2014</td>\n",
       "      <td>21</td>\n",
       "      <td>SUBN</td>\n",
       "      <td>CHEVR</td>\n",
       "      <td>T</td>\n",
       "      <td>20390</td>\n",
       "      <td>...</td>\n",
       "      <td>NaN</td>\n",
       "      <td>NaN</td>\n",
       "      <td>NaN</td>\n",
       "      <td>NaN</td>\n",
       "      <td>NaN</td>\n",
       "      <td>NaN</td>\n",
       "      <td>NaN</td>\n",
       "      <td>NaN</td>\n",
       "      <td>NaN</td>\n",
       "      <td>NaN</td>\n",
       "    </tr>\n",
       "    <tr>\n",
       "      <th>1</th>\n",
       "      <td>8015318440</td>\n",
       "      <td>5298MD</td>\n",
       "      <td>NY</td>\n",
       "      <td>COM</td>\n",
       "      <td>03/06/2015</td>\n",
       "      <td>14</td>\n",
       "      <td>VAN</td>\n",
       "      <td>FRUEH</td>\n",
       "      <td>T</td>\n",
       "      <td>27790</td>\n",
       "      <td>...</td>\n",
       "      <td>NaN</td>\n",
       "      <td>NaN</td>\n",
       "      <td>NaN</td>\n",
       "      <td>NaN</td>\n",
       "      <td>NaN</td>\n",
       "      <td>NaN</td>\n",
       "      <td>NaN</td>\n",
       "      <td>NaN</td>\n",
       "      <td>NaN</td>\n",
       "      <td>NaN</td>\n",
       "    </tr>\n",
       "    <tr>\n",
       "      <th>2</th>\n",
       "      <td>7611181981</td>\n",
       "      <td>FYW2775</td>\n",
       "      <td>NY</td>\n",
       "      <td>PAS</td>\n",
       "      <td>07/28/2014</td>\n",
       "      <td>46</td>\n",
       "      <td>SUBN</td>\n",
       "      <td>SUBAR</td>\n",
       "      <td>T</td>\n",
       "      <td>8130</td>\n",
       "      <td>...</td>\n",
       "      <td>NaN</td>\n",
       "      <td>NaN</td>\n",
       "      <td>NaN</td>\n",
       "      <td>NaN</td>\n",
       "      <td>NaN</td>\n",
       "      <td>NaN</td>\n",
       "      <td>NaN</td>\n",
       "      <td>NaN</td>\n",
       "      <td>NaN</td>\n",
       "      <td>NaN</td>\n",
       "    </tr>\n",
       "    <tr>\n",
       "      <th>3</th>\n",
       "      <td>7445908067</td>\n",
       "      <td>GWE1987</td>\n",
       "      <td>NY</td>\n",
       "      <td>PAS</td>\n",
       "      <td>04/13/2015</td>\n",
       "      <td>19</td>\n",
       "      <td>4DSD</td>\n",
       "      <td>LEXUS</td>\n",
       "      <td>T</td>\n",
       "      <td>59990</td>\n",
       "      <td>...</td>\n",
       "      <td>NaN</td>\n",
       "      <td>NaN</td>\n",
       "      <td>NaN</td>\n",
       "      <td>NaN</td>\n",
       "      <td>NaN</td>\n",
       "      <td>NaN</td>\n",
       "      <td>NaN</td>\n",
       "      <td>NaN</td>\n",
       "      <td>NaN</td>\n",
       "      <td>NaN</td>\n",
       "    </tr>\n",
       "    <tr>\n",
       "      <th>4</th>\n",
       "      <td>7037692864</td>\n",
       "      <td>T671196C</td>\n",
       "      <td>NY</td>\n",
       "      <td>PAS</td>\n",
       "      <td>05/19/2015</td>\n",
       "      <td>19</td>\n",
       "      <td>4DSD</td>\n",
       "      <td>CHRYS</td>\n",
       "      <td>T</td>\n",
       "      <td>36090</td>\n",
       "      <td>...</td>\n",
       "      <td>NaN</td>\n",
       "      <td>NaN</td>\n",
       "      <td>NaN</td>\n",
       "      <td>NaN</td>\n",
       "      <td>NaN</td>\n",
       "      <td>NaN</td>\n",
       "      <td>NaN</td>\n",
       "      <td>NaN</td>\n",
       "      <td>NaN</td>\n",
       "      <td>NaN</td>\n",
       "    </tr>\n",
       "  </tbody>\n",
       "</table>\n",
       "<p>5 rows × 51 columns</p>\n",
       "</div>"
      ],
      "text/plain": [
       "   Summons Number  Plate ID Registration State Plate Type  Issue Date  \\\n",
       "0      8002531292   EPC5238                 NY        PAS  10/01/2014   \n",
       "1      8015318440    5298MD                 NY        COM  03/06/2015   \n",
       "2      7611181981   FYW2775                 NY        PAS  07/28/2014   \n",
       "3      7445908067   GWE1987                 NY        PAS  04/13/2015   \n",
       "4      7037692864  T671196C                 NY        PAS  05/19/2015   \n",
       "\n",
       "   Violation Code Vehicle Body Type Vehicle Make Issuing Agency  Street Code1  \\\n",
       "0              21              SUBN        CHEVR              T         20390   \n",
       "1              14               VAN        FRUEH              T         27790   \n",
       "2              46              SUBN        SUBAR              T          8130   \n",
       "3              19              4DSD        LEXUS              T         59990   \n",
       "4              19              4DSD        CHRYS              T         36090   \n",
       "\n",
       "   ...  Hydrant Violation  Double Parking Violation Latitude  Longitude  \\\n",
       "0  ...                NaN                       NaN      NaN        NaN   \n",
       "1  ...                NaN                       NaN      NaN        NaN   \n",
       "2  ...                NaN                       NaN      NaN        NaN   \n",
       "3  ...                NaN                       NaN      NaN        NaN   \n",
       "4  ...                NaN                       NaN      NaN        NaN   \n",
       "\n",
       "   Community Board  Community Council   Census Tract BIN BBL NTA  \n",
       "0              NaN                 NaN           NaN NaN NaN NaN  \n",
       "1              NaN                 NaN           NaN NaN NaN NaN  \n",
       "2              NaN                 NaN           NaN NaN NaN NaN  \n",
       "3              NaN                 NaN           NaN NaN NaN NaN  \n",
       "4              NaN                 NaN           NaN NaN NaN NaN  \n",
       "\n",
       "[5 rows x 51 columns]"
      ]
     },
     "execution_count": 6,
     "metadata": {},
     "output_type": "execute_result"
    }
   ],
   "source": [
    "#reading file in csv using config file\n",
    "import dask.dataframe as dd\n",
    "path = r'' + f\"{config_data['file_path']}\"\n",
    "csvdf = dd.read_csv(path, delimiter=config_data['inbound_delimiter'])\n",
    "csvdf.head()"
   ]
  },
  {
   "cell_type": "code",
   "execution_count": 7,
   "metadata": {},
   "outputs": [
    {
     "data": {
      "text/plain": [
       "(Delayed('int-27b0c1d7-f984-44de-825a-2c05cc2058d8'), 51)"
      ]
     },
     "execution_count": 7,
     "metadata": {},
     "output_type": "execute_result"
    }
   ],
   "source": [
    "#shape of csv file\n",
    "csvdf.shape"
   ]
  },
  {
   "cell_type": "code",
   "execution_count": 8,
   "metadata": {},
   "outputs": [
    {
     "name": "stdout",
     "output_type": "stream",
     "text": [
      "column name and column length validation passed\n"
     ]
    },
    {
     "data": {
      "text/plain": [
       "1"
      ]
     },
     "execution_count": 8,
     "metadata": {},
     "output_type": "execute_result"
    }
   ],
   "source": [
    "#validate the header of the ingested csv file\n",
    "util.col_header_val(csvdf,config_data)"
   ]
  },
  {
   "cell_type": "code",
   "execution_count": 9,
   "metadata": {},
   "outputs": [
    {
     "data": {
      "text/html": [
       "<div>\n",
       "<style scoped>\n",
       "    .dataframe tbody tr th:only-of-type {\n",
       "        vertical-align: middle;\n",
       "    }\n",
       "\n",
       "    .dataframe tbody tr th {\n",
       "        vertical-align: top;\n",
       "    }\n",
       "\n",
       "    .dataframe thead th {\n",
       "        text-align: right;\n",
       "    }\n",
       "</style>\n",
       "<table border=\"1\" class=\"dataframe\">\n",
       "  <thead>\n",
       "    <tr style=\"text-align: right;\">\n",
       "      <th></th>\n",
       "      <th>Summons Number,Plate ID,Registration State,Plate Type,Issue Date,Violation Code,Vehicle Body Type,Vehicle Make,Issuing Agency,Street Code1,Street Code2,Street Code3,Vehicle Expiration Date,Violation Location,Violation Precinct,Issuer Precinct,Issuer Code,Issuer Command,Issuer Squad,Violation Time,Time First Observed,Violation County,Violation In Front Of Or Opposite,House Number,Street Name,Intersecting Street,Date First Observed,Law Section,Sub Division,Violation Legal Code,Days Parking In Effect    ,From Hours In Effect,To Hours In Effect,Vehicle Color,Unregistered Vehicle?,Vehicle Year,Meter Number,Feet From Curb,Violation Post Code,Violation Description,No Standing or Stopping Violation,Hydrant Violation,Double Parking Violation,Latitude,Longitude,Community Board,Community Council ,Census Tract,BIN,BBL,NTA</th>\n",
       "    </tr>\n",
       "  </thead>\n",
       "  <tbody>\n",
       "    <tr>\n",
       "      <th>0</th>\n",
       "      <td>8002531292,EPC5238,NY,PAS,10/01/2014,21,SUBN,C...</td>\n",
       "    </tr>\n",
       "    <tr>\n",
       "      <th>1</th>\n",
       "      <td>8015318440,5298MD,NY,COM,03/06/2015,14,VAN,FRU...</td>\n",
       "    </tr>\n",
       "    <tr>\n",
       "      <th>2</th>\n",
       "      <td>7611181981,FYW2775,NY,PAS,07/28/2014,46,SUBN,S...</td>\n",
       "    </tr>\n",
       "    <tr>\n",
       "      <th>3</th>\n",
       "      <td>7445908067,GWE1987,NY,PAS,04/13/2015,19,4DSD,L...</td>\n",
       "    </tr>\n",
       "    <tr>\n",
       "      <th>4</th>\n",
       "      <td>7037692864,T671196C,NY,PAS,05/19/2015,19,4DSD,...</td>\n",
       "    </tr>\n",
       "  </tbody>\n",
       "</table>\n",
       "</div>"
      ],
      "text/plain": [
       "  Summons Number,Plate ID,Registration State,Plate Type,Issue Date,Violation Code,Vehicle Body Type,Vehicle Make,Issuing Agency,Street Code1,Street Code2,Street Code3,Vehicle Expiration Date,Violation Location,Violation Precinct,Issuer Precinct,Issuer Code,Issuer Command,Issuer Squad,Violation Time,Time First Observed,Violation County,Violation In Front Of Or Opposite,House Number,Street Name,Intersecting Street,Date First Observed,Law Section,Sub Division,Violation Legal Code,Days Parking In Effect    ,From Hours In Effect,To Hours In Effect,Vehicle Color,Unregistered Vehicle?,Vehicle Year,Meter Number,Feet From Curb,Violation Post Code,Violation Description,No Standing or Stopping Violation,Hydrant Violation,Double Parking Violation,Latitude,Longitude,Community Board,Community Council ,Census Tract,BIN,BBL,NTA\n",
       "0  8002531292,EPC5238,NY,PAS,10/01/2014,21,SUBN,C...                                                                                                                                                                                                                                                                                                                                                                                                                                                                                                                                                                                                                                                                                                                                                                                                   \n",
       "1  8015318440,5298MD,NY,COM,03/06/2015,14,VAN,FRU...                                                                                                                                                                                                                                                                                                                                                                                                                                                                                                                                                                                                                                                                                                                                                                                                   \n",
       "2  7611181981,FYW2775,NY,PAS,07/28/2014,46,SUBN,S...                                                                                                                                                                                                                                                                                                                                                                                                                                                                                                                                                                                                                                                                                                                                                                                                   \n",
       "3  7445908067,GWE1987,NY,PAS,04/13/2015,19,4DSD,L...                                                                                                                                                                                                                                                                                                                                                                                                                                                                                                                                                                                                                                                                                                                                                                                                   \n",
       "4  7037692864,T671196C,NY,PAS,05/19/2015,19,4DSD,...                                                                                                                                                                                                                                                                                                                                                                                                                                                                                                                                                                                                                                                                                                                                                                                                   "
      ]
     },
     "execution_count": 9,
     "metadata": {},
     "output_type": "execute_result"
    }
   ],
   "source": [
    "#reading file in pipe separated format using config file\n",
    "\n",
    "pipe_df = dd.read_csv(path, delimiter=config_data['outbound_delimiter'])\n",
    "pipe_df.head()"
   ]
  },
  {
   "cell_type": "code",
   "execution_count": 10,
   "metadata": {},
   "outputs": [
    {
     "data": {
      "text/plain": [
       "(Delayed('int-7712dd25-ba4a-4d52-8bf6-ad2d8d32c7cf'), 1)"
      ]
     },
     "execution_count": 10,
     "metadata": {},
     "output_type": "execute_result"
    }
   ],
   "source": [
    "#shape of pipe separated file\n",
    "pipe_df.shape"
   ]
  },
  {
   "cell_type": "code",
   "execution_count": 11,
   "metadata": {},
   "outputs": [
    {
     "data": {
      "text/plain": [
       "['D:/Purity/DataGlacier Internship/week6/file.gz']"
      ]
     },
     "execution_count": 11,
     "metadata": {},
     "output_type": "execute_result"
    }
   ],
   "source": [
    "#creating a gz file\n",
    "pipe_df.to_csv(r'D:\\Purity\\DataGlacier Internship\\week6\\file.gz', single_file=True, compression='gzip')"
   ]
  },
  {
   "cell_type": "code",
   "execution_count": null,
   "metadata": {},
   "outputs": [],
   "source": []
  }
 ],
 "metadata": {
  "kernelspec": {
   "display_name": "Python 3",
   "language": "python",
   "name": "python3"
  },
  "language_info": {
   "codemirror_mode": {
    "name": "ipython",
    "version": 3
   },
   "file_extension": ".py",
   "mimetype": "text/x-python",
   "name": "python",
   "nbconvert_exporter": "python",
   "pygments_lexer": "ipython3",
   "version": "3.8.5"
  }
 },
 "nbformat": 4,
 "nbformat_minor": 4
}
